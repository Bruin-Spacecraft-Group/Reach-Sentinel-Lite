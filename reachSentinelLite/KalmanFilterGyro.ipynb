{
 "cells": [
  {
   "cell_type": "markdown",
   "metadata": {},
   "source": [
    "## data will be read from somewhere, right now I am assuming its just in somewhere"
   ]
  },
  {
   "cell_type": "code",
   "execution_count": 33,
   "metadata": {
    "collapsed": true
   },
   "outputs": [],
   "source": [
    "import numpy as np\n",
    "import numpy.random as rando\n",
    "import math\n",
    "import pandas as pd\n",
    "import os\n",
    "import scipy.integrate"
   ]
  },
  {
   "cell_type": "code",
   "execution_count": 34,
   "metadata": {},
   "outputs": [
    {
     "data": {
      "text/plain": [
       "1"
      ]
     },
     "execution_count": 34,
     "metadata": {},
     "output_type": "execute_result"
    }
   ],
   "source": [
    "np.matrix(\"1 1 ; 2 1\").item(0)"
   ]
  },
  {
   "cell_type": "code",
   "execution_count": 35,
   "metadata": {
    "collapsed": true
   },
   "outputs": [],
   "source": [
    "def transition (x_hat_plus):\n",
    "    T=0.01\n",
    "    tau_rx=0.002\n",
    "    tau_ry=0.15\n",
    "    tau_rz=1.0\n",
    "    x1=x_hat_plus.item(0)\n",
    "    x2=x_hat_plus.item(1)\n",
    "    x3=x_hat_plus.item(2)\n",
    "    x4=x_hat_plus.item(3)\n",
    "    x5=x_hat_plus.item(4)\n",
    "    x6=x_hat_plus.item(5)\n",
    "    x7=x_hat_plus.item(6)\n",
    "    n2=math.sqrt(x4**2 + x5**2 + x6**2 + x7**2)\n",
    "    f1=-x1/tau_rx\n",
    "    f2=-x2/tau_ry\n",
    "    f3=-x3/tau_rz\n",
    "    \n",
    "    f4=0.5*(x3*x5 - x2*x6 + x1*x7)/n2\n",
    "    f5=0.5*(-x3*x4 + x1*x6 + x2*x7)/n2\n",
    "    f6=0.5*(x2*x4 - x1*x5 + x3*x7)/n2\n",
    "    f7=0.5*(-x1*x4 - x2*x5 - x3*x6)/n2\n",
    "    \n",
    "    df1_x1=1 - T/tau_rx\n",
    "    df2_x2=1 - T/tau_ry\n",
    "    df3_x3=1 - T/tau_rz\n",
    "    df4_x1=0.5*(x7/n2)\n",
    "    df4_x2=0.5*(-x6/n2)\n",
    "    df4_x3=0.5*(x5/n2)\n",
    "    df4_x4=1 + 0.5*(-f4*x4/(n2**3))\n",
    "    df4_x5=0.5*(x3/n2 - f4*x5/(n2**3))\n",
    "    df4_x6=0.5*(-x2/n2 - f4*x6/(n2**3))\n",
    "    df4_x7=0.5*(x1/n2 - f4*x7/(n2**3))\n",
    "    df5_x1=0.5*(x6/n2)\n",
    "    df5_x2=0.5*(x7/n2)\n",
    "    df5_x3=0.5*(-x4/n2)\n",
    "    df5_x4=0.5*(-x3/n2 - f5*x4/(n2**3))\n",
    "    df5_x5=1 + 0.5*(-f5*x5/(n2**3))\n",
    "    df5_x6=0.5*(x1/n2 - f5*x6/(n2**3))\n",
    "    df5_x7=0.5*(x2/n2 - f5*x7/(n2**3))\n",
    "    df6_x1=0.5*(-x5/n2)\n",
    "    df6_x2=0.5*(x4/n2)\n",
    "    df6_x3=0.5*(x7/n2)\n",
    "    df6_x4=0.5*(x2/n2 - f6*x4/(n2**3))\n",
    "    df6_x5=1 + 0.5*(x3/n2 - f6*x7/(n2**3))\n",
    "    df6_x6=0.5*(-x1/n2 - f6*x5/(n2**3))\n",
    "    \n",
    "    df6_x7=0\n",
    "    \n",
    "    df7_x1=0.5*(-x4/n2)\n",
    "    df7_x2=0.5*(-x5/n2)\n",
    "    df7_x3=0.5*(-x6/n2)\n",
    "    df7_x4=0.5*(-x1/n2 - f7*x4/(n2**3))\n",
    "    df7_x5=0.5*(-x2/n2 - f7*x5/(n2**3))\n",
    "    df7_x6=0.5*(-f7*x7/(n2**3))\n",
    "    df7_x7=1 + 0.5*(-x2/n2 - f7*x6/(n2**3))\n",
    "    \n",
    "    phi=[\n",
    "        [df1_x1 , 0      , 0      , 0      , 0      ,0,0],\n",
    "        [0      , df2_x2 , 0      , 0      , 0      ,0,0],\n",
    "        [0      , 0      , df3_x3 , 0      , 0      ,0,0],\n",
    "        [df4_x1 , df4_x2 , df4_x3 , df4_x4 , df4_x5 ,df4_x6,df4_x7],\n",
    "        [df5_x1,df5_x2,df5_x3,df5_x4,df5_x5,df5_x6,df5_x7],\n",
    "        [df6_x1,df6_x2,df6_x3,df6_x4,df6_x5,df6_x6,df6_x7],\n",
    "        [df7_x1,df7_x2,df7_x3,df7_x4,df7_x5,df7_x6,df7_x7]\n",
    "    ]\n",
    "    return phi"
   ]
  },
  {
   "cell_type": "code",
   "execution_count": null,
   "metadata": {
    "collapsed": true
   },
   "outputs": [],
   "source": []
  },
  {
   "cell_type": "code",
   "execution_count": 36,
   "metadata": {},
   "outputs": [
    {
     "name": "stdout",
     "output_type": "stream",
     "text": [
      "No_motion\n",
      "/home/theurerjohn3\n"
     ]
    }
   ],
   "source": [
    "def read_file(file_name):\n",
    "    file_path = os.path.join(file_name)\n",
    "    print(file_path)\n",
    "    print(os.getcwd())\n",
    "    df = pd.read_csv(file_name,delimiter=\"\\t\",names=[\"accX\",\"accY\",\"accZ\",\"gyroX\",\"gyroY\",\"gyroZ\",\"alt\",\"temp\"],header=None)\n",
    "    return df\n",
    "df = read_file(\"No_motion\")\n",
    "data = df[[\"accX\",\"accY\",\"accZ\",\"gyroX\",\"gyroY\",\"gyroZ\"]]"
   ]
  },
  {
   "cell_type": "code",
   "execution_count": 37,
   "metadata": {
    "collapsed": true
   },
   "outputs": [],
   "source": [
    "def projection (t,x):\n",
    "    tau_rx=0.002\n",
    "    tau_ry=0.15\n",
    "    tau_rz=1.0\n",
    "    xprime=[[-x[1]/tau_rx],[-x[2]/tau_ry],[-x[3]/tau_rz],[(x[3]*x[5]-x[2]*x[6]+x[1]*x[7])/(2*math.sqrt(x[4]**2+x[5]**2+x[6]**2+x[7]**2))],[(-x[3]*x[4]+x[1]*x[6]+x[2]*x[7])/(2*math.sqrt(x[4]**2+x[5]**2+x[6]**2+x[7]**2))],[(x[2]*x[4]-x[1]*x[5]+x[3]*x[7])/(2*math.sqrt(x[4]**2+x[5]**2+x[6]**2+x[7]**2))],[(-x[1]*x[4]-x[2]*x[5]-x[3]*x[6])/(2*math.sqrt(x[4]**2+x[5]**2+x[6]**2+x[7]**2))]]\n",
    "    return xprime"
   ]
  },
  {
   "cell_type": "code",
   "execution_count": 38,
   "metadata": {
    "collapsed": true
   },
   "outputs": [],
   "source": [
    "def concat_with_zero(A):\n",
    "    zero = np.zeros((3,3))\n",
    "    upper = np.concatenate((A,zero),axis=1)\n",
    "    lower = np.concatenate((zero,A),axis=1)\n",
    "    ret= np.concatenate((upper,lower),axis=0)\n",
    "    return ret"
   ]
  },
  {
   "cell_type": "code",
   "execution_count": 39,
   "metadata": {
    "collapsed": true
   },
   "outputs": [],
   "source": [
    "def converge(ye,yb,guess,k):\n",
    "    n_hat = guess\n",
    "    \n",
    "    n_hat = n_hat/math.sqrt( n_hat.transpose() * n_hat )\n",
    "\n",
    "\n",
    "    a = n_hat.item(0)\n",
    "    b = n_hat.item(1)\n",
    "    c = n_hat.item(2)\n",
    "    d = n_hat.item(3)\n",
    "    R_a = np.matrix([[a,b,c],[b,-a,-d],[c,d,-a]])\n",
    "    d_R_a = 2*concat_with_zero(R_a)\n",
    "\n",
    "    R_b = np.matrix([[-b,a,d],[a,b,c],[-d,c,-b]])\n",
    "    d_R_b = 2*concat_with_zero(R_b)\n",
    "\n",
    "    R_c = np.matrix([[-c,-d,a],[d,-c,b],[a,b,c]])\n",
    "    d_R_c = 2*concat_with_zero(R_c)\n",
    "    \n",
    "    R_d = np.matrix([[d,-c,b],[c,d,-a],[-b,a,d]])\n",
    "    d_R_d = 2*concat_with_zero(R_d)\n",
    "    \n",
    "    yb_trans=yb.T\n",
    "    jacobian = np.concatenate(((d_R_a*yb_trans).T,(d_R_b*yb_trans).T,(d_R_c*yb_trans).T,(d_R_d*yb_trans).T),axis=0).T\n",
    "    \n",
    "    \n",
    "    \n",
    "    \n",
    "    \n",
    "    \n",
    "\n",
    "    M_hat = [\n",
    "    [ d*d+a*a-b*b-c*c , 2*(a*b-c*d) , 2*(a*c+b*d) ],\n",
    "    [ 2*(a*b+c*d) , d*d+b*b-a*a-c*c , 2*(c*b-a*d) ],\n",
    "    [ 2*(a*c-b*d) , 2*(b*c+a*d) , d*d+c*c-a*a-b*b ]\n",
    "    ]\n",
    "\n",
    "    R_hat = concat_with_zero(M_hat)\n",
    "    \n",
    "    err = ye - R_hat*(yb.transpose()) # 6x1\n",
    "#     n_hat = 4x1\n",
    "# jacobian = 4x6\n",
    "\n",
    "# 6x4 * 4x6)\n",
    "    n_hat = n_hat - (jacobian.transpose()*jacobian).I*jacobian.transpose()*err\n",
    "\n",
    "    n_hat = n_hat/math.sqrt(n_hat.transpose()*n_hat)\n",
    "\n",
    "    A = (jacobian.transpose()*jacobian).I*jacobian.transpose()*R_hat\n",
    "\n",
    "    cat = n_hat-guess\n",
    "    ssum = 0\n",
    "    for el in cat:\n",
    "        ssum+=el*el\n",
    "    distance = ssum\n",
    "\n",
    "    n = n_hat\n",
    "\n",
    "    if k == 1:\n",
    "        flag = 1\n",
    "    else:\n",
    "        if distance <= .05:\n",
    "            flag = 1\n",
    "        else:\n",
    "            flag = 0\n",
    "    return [n,flag,A]"
   ]
  },
  {
   "cell_type": "code",
   "execution_count": 40,
   "metadata": {},
   "outputs": [
    {
     "name": "stdout",
     "output_type": "stream",
     "text": [
      "[[1 2]\n",
      " [2 3]]\n"
     ]
    }
   ],
   "source": [
    "x = np.matrix([1,2])\n",
    "y = np.matrix([2,3])\n",
    "cat = np.concatenate((x,y),axis=0)\n",
    "print(cat)"
   ]
  },
  {
   "cell_type": "code",
   "execution_count": 41,
   "metadata": {
    "collapsed": true
   },
   "outputs": [],
   "source": [
    "sim_data = []\n"
   ]
  },
  {
   "cell_type": "code",
   "execution_count": 42,
   "metadata": {
    "collapsed": true
   },
   "outputs": [],
   "source": [
    "#definitions\n",
    "run_time = 4.50 #simulation time in minutes\n",
    "T = 0.125 #resolution time in seconds\n",
    "samp = 20 #run_time * 60.0/T # number of samples"
   ]
  },
  {
   "cell_type": "code",
   "execution_count": 43,
   "metadata": {
    "collapsed": true
   },
   "outputs": [],
   "source": [
    "#time constants\n",
    "tau_rx = 0.002\n",
    "tau_ry = 0.15\n",
    "tau_rz = 1.0"
   ]
  },
  {
   "cell_type": "code",
   "execution_count": 44,
   "metadata": {
    "collapsed": true
   },
   "outputs": [],
   "source": [
    "# Values of standared devation used in the Q matrix - E[w'*w]\n",
    "\n",
    "stdA =0.00000001\n",
    "stdB = 0.01\n",
    "stdC = 0.30"
   ]
  },
  {
   "cell_type": "code",
   "execution_count": 45,
   "metadata": {
    "collapsed": true
   },
   "outputs": [],
   "source": [
    "# process model - noise vector for angular rates\n",
    "# randn('state',sum(100*clock))\n",
    "wrx = np.matrix(rando.normal(0,stdA,math.floor(samp)))\n",
    "wry = np.matrix(rando.normal(0,stdB,math.floor(samp)))\n",
    "wrz = np.matrix(rando.normal(0,stdC,math.floor(samp)))\n"
   ]
  },
  {
   "cell_type": "code",
   "execution_count": 46,
   "metadata": {},
   "outputs": [
    {
     "name": "stdout",
     "output_type": "stream",
     "text": [
      "[[0 0 0 0 0 0 0 0 0 0 0 0 0 0 0 0 0 0 0 0]]\n"
     ]
    }
   ],
   "source": [
    "# process model - noise vector for quaterions - no noise\n",
    "wna = np.matrix([0] * math.floor(samp))\n",
    "wnb = np.matrix([0] * math.floor(samp))\n",
    "wnc = np.matrix([0] * math.floor(samp))\n",
    "wnd = np.matrix([0] * math.floor(samp))\n",
    "print(wnc)"
   ]
  },
  {
   "cell_type": "code",
   "execution_count": 47,
   "metadata": {},
   "outputs": [
    {
     "name": "stdout",
     "output_type": "stream",
     "text": [
      "1\n"
     ]
    }
   ],
   "source": [
    "cat = np.matrix([[1,1,1]])\n",
    "print(cat.item(0,1))"
   ]
  },
  {
   "cell_type": "code",
   "execution_count": 48,
   "metadata": {
    "collapsed": true
   },
   "outputs": [],
   "source": [
    "# system noise vector\n",
    "satan = []\n",
    "satan.append([])\n",
    "satan.append([])\n",
    "satan.append([])\n",
    "satan.append([])\n",
    "satan.append([])\n",
    "satan.append([])\n",
    "satan.append([])\n",
    "\n",
    "for i in range(0,math.floor(samp)):\n",
    "    satan[0].append(wrx.item(0,i))\n",
    "    satan[1].append(wry.item(0,i))\n",
    "    satan[2].append(wrz.item(0,i))\n",
    "    satan[3].append(wna.item(0,i))\n",
    "    satan[4].append(wnb.item(0,i))\n",
    "    satan[5].append(wnc.item(0,i))\n",
    "    satan[6].append(wnd.item(0,i))\n",
    "\n",
    "w = np.matrix(satan)\n"
   ]
  },
  {
   "cell_type": "code",
   "execution_count": 49,
   "metadata": {
    "collapsed": true
   },
   "outputs": [],
   "source": [
    "# measurements - noise vector for angular rates\n",
    "\n",
    "vrx = np.matrix(rando.normal(0,1,math.floor(samp)))\n",
    "vry = np.matrix(rando.normal(0,1,math.floor(samp)))\n",
    "vrz = np.matrix(rando.normal(0,1,math.floor(samp)))\n"
   ]
  },
  {
   "cell_type": "code",
   "execution_count": 50,
   "metadata": {},
   "outputs": [
    {
     "name": "stdout",
     "output_type": "stream",
     "text": [
      "[[-0.3600282  -0.58205536  0.1788797  -0.68775372 -2.17706516 -0.52986617\n",
      "   0.75358148  1.17036187 -0.50024943  0.01945307 -0.4588219  -1.41216768\n",
      "   0.33352828 -1.63884188 -0.31029982  0.30922065  1.72033355  1.49373907\n",
      "  -0.34864388  0.75774544]]\n"
     ]
    }
   ],
   "source": [
    "# measurements noise vector for angular rates\n",
    "vna = np.matrix(rando.normal(0,1,math.floor(samp)))\n",
    "vnb = np.matrix(rando.normal(0,1,math.floor(samp)))\n",
    "vnc = np.matrix(rando.normal(0,1,math.floor(samp)))\n",
    "vnd = np.matrix(rando.normal(0,1,math.floor(samp)))\n",
    "\n",
    "# measurement noise vector\n",
    "print(vna)"
   ]
  },
  {
   "cell_type": "code",
   "execution_count": 51,
   "metadata": {
    "collapsed": true
   },
   "outputs": [],
   "source": [
    "# v = [vrx,vry,vrz,vna,vnb,vnc,vnd]\n",
    "# system noise vector\n",
    "satan = []\n",
    "satan.append([])\n",
    "satan.append([])\n",
    "satan.append([])\n",
    "satan.append([])\n",
    "satan.append([])\n",
    "satan.append([])\n",
    "satan.append([])\n",
    "\n",
    "for i in range(0,math.floor(samp)):\n",
    "    satan[0].append(vrx.item(0,i))\n",
    "    satan[1].append(vry.item(0,i))\n",
    "    satan[2].append(vrz.item(0,i))\n",
    "    satan[3].append(vna.item(0,i))\n",
    "    satan[4].append(vnb.item(0,i))\n",
    "    satan[5].append(vnc.item(0,i))\n",
    "    satan[6].append(vnd.item(0,i))\n",
    "\n",
    "v = np.matrix(satan)\n"
   ]
  },
  {
   "cell_type": "code",
   "execution_count": null,
   "metadata": {
    "collapsed": true
   },
   "outputs": [],
   "source": []
  },
  {
   "cell_type": "code",
   "execution_count": null,
   "metadata": {
    "collapsed": true
   },
   "outputs": [],
   "source": []
  },
  {
   "cell_type": "code",
   "execution_count": null,
   "metadata": {
    "collapsed": true
   },
   "outputs": [],
   "source": []
  },
  {
   "cell_type": "code",
   "execution_count": null,
   "metadata": {
    "collapsed": true
   },
   "outputs": [],
   "source": []
  },
  {
   "cell_type": "code",
   "execution_count": 52,
   "metadata": {},
   "outputs": [
    {
     "name": "stdout",
     "output_type": "stream",
     "text": [
      "[[ 0.01]\n",
      " [ 0.01]\n",
      " [ 0.01]\n",
      " [ 0.5 ]\n",
      " [ 0.5 ]\n",
      " [ 0.5 ]\n",
      " [ 0.5 ]]\n"
     ]
    }
   ],
   "source": [
    "#inital conditions\n",
    "x_hat_minus = np.matrix('.01;.01;.01;0.5;0.5;0.5;0.5')\n",
    "print (x_hat_minus)"
   ]
  },
  {
   "cell_type": "code",
   "execution_count": 53,
   "metadata": {
    "collapsed": true
   },
   "outputs": [],
   "source": [
    "# inital covariance matrix\n",
    "p_minus = np.diag([0.5,0.5,0.5,0.5,0.5,0.5,0.5])\n"
   ]
  },
  {
   "cell_type": "code",
   "execution_count": 54,
   "metadata": {},
   "outputs": [
    {
     "name": "stdout",
     "output_type": "stream",
     "text": [
      "[[ 1.  0.  0.  0.  0.  0.  0.]\n",
      " [ 0.  1.  0.  0.  0.  0.  0.]\n",
      " [ 0.  0.  1.  0.  0.  0.  0.]]\n"
     ]
    }
   ],
   "source": [
    "# Flag = 0 quaternions do not converge\n",
    "\n",
    "R_0 = np.matrix([\n",
    "    [ (0.0000736)*(0.0000736) , 0 , 0 ],\n",
    "    [ 0 , (0.015)*(0.015) , 0 ],\n",
    "    [ 0 , 0 , (0.029)*(0.029) ]\n",
    "])\n",
    "H_1 = np.matrix([[[ 1 , 0 , 0 ] , [ 0 , 1 , 0 ], [ 0 , 0 , 1 ]], [[0,0,0,0],[0,0,0,0],[0,0,0,0]]])\n",
    "H_0 = np.matrix(np.concatenate((np.eye(3), np.zeros((3,4))), axis=1))\n",
    "print(H_0)\n"
   ]
  },
  {
   "cell_type": "code",
   "execution_count": 55,
   "metadata": {
    "collapsed": true
   },
   "outputs": [],
   "source": [
    "# Flag = 1 quaternions converge\n",
    "R_aux  = np.matrix([\n",
    "    [ (0.110)*(0.110) , 0 , 0 , 0 , 0 , 0 ],\n",
    "    [ 0 , (0.167)*(0.167) , 0 , 0 , 0 , 0 ],\n",
    "    [ 0 , 0 , (0.045)*(0.045) , 0 , 0 , 0 ],\n",
    "    [ 0 , 0 , 0 , (0.030)*(0.030) , 0 , 0 ],\n",
    "    [ 0 , 0 , 0 , 0 , (0.030)*(0.030) , 0 ],\n",
    "    [ 0 , 0 , 0 , 0 , 0 , (0.030)*(0.030) ]\n",
    "])\n",
    "H_1 = np.matrix([\n",
    "            [1,0,0,0,0,0,0],\n",
    "            [0,1,0,0,0,0,0],\n",
    "            [0,0,1,0,0,0,0],\n",
    "            [0,0,0,1,0,0,0],\n",
    "            [0,0,0,0,1,0,0],\n",
    "            [0,0,0,0,0,1,0],\n",
    "            [0,0,0,0,0,0,1]\n",
    "          ])\n"
   ]
  },
  {
   "cell_type": "code",
   "execution_count": 56,
   "metadata": {
    "collapsed": true
   },
   "outputs": [],
   "source": [
    "# process noise covariance matrix\n",
    "Q = np.diag([ stdA*stdA , stdB*stdB , stdC*stdC , 0 , 0 , 0 , 0 ])\n"
   ]
  },
  {
   "cell_type": "code",
   "execution_count": 57,
   "metadata": {
    "scrolled": true
   },
   "outputs": [
    {
     "name": "stdout",
     "output_type": "stream",
     "text": [
      "[[ 0.01]\n",
      " [ 0.01]\n",
      " [ 0.01]\n",
      " [ 0.5 ]\n",
      " [ 0.5 ]\n",
      " [ 0.5 ]\n",
      " [ 0.5 ]]\n"
     ]
    }
   ],
   "source": [
    "x_hat_plus_cum = x_hat_minus\n",
    "print(x_hat_plus_cum)"
   ]
  },
  {
   "cell_type": "code",
   "execution_count": 58,
   "metadata": {
    "collapsed": true
   },
   "outputs": [],
   "source": [
    "# Accumulate all the estimates\n",
    "n_acum = []"
   ]
  },
  {
   "cell_type": "code",
   "execution_count": 59,
   "metadata": {},
   "outputs": [
    {
     "name": "stdout",
     "output_type": "stream",
     "text": [
      "[[ 0.97566119]\n",
      " [ 0.62421808]\n",
      " [ 0.89435769]\n",
      " [ 0.88897836]\n",
      " [ 0.27677821]\n",
      " [ 0.5869041 ]\n",
      " [ 0.77019041]\n",
      " [ 0.70929565]\n",
      " [ 0.46589877]]\n"
     ]
    }
   ],
   "source": [
    "sim_data = np.matrix([np.random.rand() for _ in range(9)]).T\n",
    "print(sim_data)"
   ]
  },
  {
   "cell_type": "code",
   "execution_count": 60,
   "metadata": {},
   "outputs": [
    {
     "name": "stdout",
     "output_type": "stream",
     "text": [
      "0.125\n"
     ]
    },
    {
     "name": "stderr",
     "output_type": "stream",
     "text": [
      "/home/theurerjohn3/.local/lib/python3.5/site-packages/scipy/integrate/_ode.py:387: UserWarning: No integrator name match with 'projection' or is not available.\n",
      "  'available.' % name)\n"
     ]
    },
    {
     "ename": "TypeError",
     "evalue": "'ode' object is not iterable",
     "output_type": "error",
     "traceback": [
      "\u001b[0;31m---------------------------------------------------------------------------\u001b[0m",
      "\u001b[0;31mTypeError\u001b[0m                                 Traceback (most recent call last)",
      "\u001b[0;32m<ipython-input-60-0946794321bf>\u001b[0m in \u001b[0;36m<module>\u001b[0;34m()\u001b[0m\n\u001b[1;32m     61\u001b[0m     \u001b[0mprint\u001b[0m\u001b[0;34m(\u001b[0m\u001b[0mT\u001b[0m\u001b[0;34m)\u001b[0m\u001b[0;34m\u001b[0m\u001b[0m\n\u001b[1;32m     62\u001b[0m     \u001b[0;31m#ti,x_aux = ode45('projection',[0,T],x_hat_plus)\u001b[0m\u001b[0;34m\u001b[0m\u001b[0;34m\u001b[0m\u001b[0m\n\u001b[0;32m---> 63\u001b[0;31m     \u001b[0mti\u001b[0m\u001b[0;34m,\u001b[0m\u001b[0mx_aux\u001b[0m \u001b[0;34m=\u001b[0m \u001b[0mscipy\u001b[0m\u001b[0;34m.\u001b[0m\u001b[0mintegrate\u001b[0m\u001b[0;34m.\u001b[0m\u001b[0mode\u001b[0m\u001b[0;34m(\u001b[0m\u001b[0;34m[\u001b[0m\u001b[0;36m0\u001b[0m\u001b[0;34m,\u001b[0m\u001b[0mT\u001b[0m\u001b[0;34m]\u001b[0m\u001b[0;34m,\u001b[0m\u001b[0mx_hat_plus\u001b[0m\u001b[0;34m)\u001b[0m\u001b[0;34m.\u001b[0m\u001b[0mset_integrator\u001b[0m\u001b[0;34m(\u001b[0m\u001b[0;34m'projection'\u001b[0m\u001b[0;34m)\u001b[0m\u001b[0;34m\u001b[0m\u001b[0m\n\u001b[0m\u001b[1;32m     64\u001b[0m \u001b[0;34m\u001b[0m\u001b[0m\n\u001b[1;32m     65\u001b[0m     \u001b[0mx_hat_minus\u001b[0m \u001b[0;34m=\u001b[0m \u001b[0;34m(\u001b[0m\u001b[0mx_aux\u001b[0m\u001b[0;34m.\u001b[0m\u001b[0mwhere\u001b[0m\u001b[0;34m(\u001b[0m\u001b[0msomething\u001b[0m\u001b[0;34m)\u001b[0m\u001b[0;34m)\u001b[0m\u001b[0;34m\u001b[0m\u001b[0m\n",
      "\u001b[0;31mTypeError\u001b[0m: 'ode' object is not iterable"
     ]
    }
   ],
   "source": [
    "# Registry number of times the convergence algorithm diverges\n",
    "flag_cum = []\n",
    "count =0\n",
    "# for k in range(2,math.floor(samp)):\n",
    "for k in range(2,math.floor(samp)):\n",
    "    ye = np.matrix([\n",
    "        [0],\n",
    "        [0],\n",
    "        [-1],\n",
    "        [-0.5],\n",
    "        [0],\n",
    "        [math.sqrt(3)/2]\n",
    "        \n",
    "    ])\n",
    "    \n",
    "    sim_data = np.matrix([np.random.rand() for _ in range(9)]).T\n",
    "\n",
    "    \n",
    "    # step one is read data\n",
    "    g_norm = sim_data[0:3]\n",
    "    h_norm = sim_data[3:6]\n",
    "    # take data into g_norm and h_norm\n",
    "    yb = np.concatenate((g_norm, h_norm),axis=0).T\n",
    "    # first guess is the current quaternion\n",
    "    guess = np.matrix(x_hat_minus[3:7])\n",
    "    #n,flag,A = something \n",
    "    # step two converge the quaternions using x_hat(k|k-1)\n",
    "    n,flag,A = converge(ye,yb,guess,k)\n",
    "    flag_cum = [flag_cum, flag]\n",
    "    P_minus = np.diag([ .05 , .05 , .05 , .05 , .05 , .05 , .05 ])\n",
    "    \n",
    "    n_acum = [n_acum , n]\n",
    "    if flag == 1 : # if the quaterinons converge\n",
    "        #get data into z\n",
    "        print(n)\n",
    "        print(sim_data[6:])\n",
    "        z = np.concatenate((sim_data[6:],n),axis=1)\n",
    "        \n",
    "        \n",
    "        top_half = np.concatenate((R_0,np.zeros(3,4)),axis=1)\n",
    "        bottom_half = np.concatenate((np.zeros(4,3),A*R_aux*A),axis=1)\n",
    "        R_1 = np.concatonate((top_half,bottom_half), axis=0)\n",
    "        \n",
    "        K = P_minus * H_1.transpose() * np.inv( H_1*P_minus*H_1.transpose() + R_1)\n",
    "        x_hat_plus = x_hat_minus + K*(z-H_1*x_hat_minus)\n",
    "        \n",
    "        P_plus = (np.identity(7) - K*H_1)*P_minus\n",
    "    else:\n",
    "        #get data into z\n",
    "        z = sim_data[6:]\n",
    "        K = P_minus * H_0.transpose() * ( H_0*P_minus*H_0.transpose() + R_0).I\n",
    "        x_hat_plus = x_hat_minus + K*(z-H_0*x_hat_minus)\n",
    "        \n",
    "        P_plus = (np.identity(7) - K*H_0)*P_minus\n",
    "        \n",
    "        count+1\n",
    "    \n",
    "    x_hat_plus_cum = np.concatenate((x_hat_plus_cum,x_hat_plus),axis=0)\n",
    "    phi = np.matrix(transition(x_hat_plus))\n",
    "    P_minus = phi*P_plus*phi.transpose()+Q\n",
    "    print(T)\n",
    "    ti,x_aux = ode45('projection',[0,T],x_hat_plus)\n",
    "    \n",
    "    x_hat_minus = (x_aux.where(something))\n",
    "    \n",
    "\n",
    "\n",
    "    \n",
    "        "
   ]
  },
  {
   "cell_type": "code",
   "execution_count": null,
   "metadata": {},
   "outputs": [],
   "source": [
    "H_0*P_minus"
   ]
  },
  {
   "cell_type": "code",
   "execution_count": null,
   "metadata": {
    "collapsed": true
   },
   "outputs": [],
   "source": [
    "type(P_minus)"
   ]
  },
  {
   "cell_type": "code",
   "execution_count": null,
   "metadata": {
    "collapsed": true
   },
   "outputs": [],
   "source": []
  },
  {
   "cell_type": "code",
   "execution_count": null,
   "metadata": {
    "collapsed": true
   },
   "outputs": [],
   "source": []
  },
  {
   "cell_type": "code",
   "execution_count": null,
   "metadata": {
    "collapsed": true
   },
   "outputs": [],
   "source": []
  }
 ],
 "metadata": {
  "kernelspec": {
   "display_name": "Python 3",
   "language": "python",
   "name": "python3"
  },
  "language_info": {
   "codemirror_mode": {
    "name": "ipython",
    "version": 3
   },
   "file_extension": ".py",
   "mimetype": "text/x-python",
   "name": "python",
   "nbconvert_exporter": "python",
   "pygments_lexer": "ipython3",
   "version": "3.5.2"
  }
 },
 "nbformat": 4,
 "nbformat_minor": 2
}
